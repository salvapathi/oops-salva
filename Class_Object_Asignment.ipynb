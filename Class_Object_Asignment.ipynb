{
 "cells": [
  {
   "cell_type": "code",
   "execution_count": null,
   "metadata": {
    "id": "gXQ_OQjp_ajF"
   },
   "outputs": [],
   "source": []
  },
  {
   "cell_type": "markdown",
   "metadata": {
    "id": "UlTyvTnVDRXI"
   },
   "source": [
    "## 1. Create Python class named `Student` and display its type"
   ]
  },
  {
   "cell_type": "code",
   "execution_count": 8,
   "metadata": {},
   "outputs": [
    {
     "name": "stdout",
     "output_type": "stream",
     "text": [
      "<class '__main__.Student'>\n"
     ]
    }
   ],
   "source": [
    "class Student:\n",
    "    pass\n",
    "v=Student()\n",
    "print(type(v))"
   ]
  },
  {
   "cell_type": "code",
   "execution_count": null,
   "metadata": {
    "colab": {
     "base_uri": "https://localhost:8080/"
    },
    "id": "DCcHnvOSDU9N",
    "outputId": "bc177e1e-656f-4a02-ab9f-a47693dbfdcc"
   },
   "outputs": [
    {
     "name": "stdout",
     "output_type": "stream",
     "text": [
      "<class 'type'>\n"
     ]
    }
   ],
   "source": []
  },
  {
   "cell_type": "markdown",
   "metadata": {
    "id": "nYjL6Efcx6ad"
   },
   "source": [
    "## 2. How to call a variable and function by creating a simple class\n"
   ]
  },
  {
   "cell_type": "code",
   "execution_count": 9,
   "metadata": {
    "colab": {
     "base_uri": "https://localhost:8080/"
    },
    "id": "2cVJl1pTyQtS",
    "outputId": "a490e4f4-11a8-44e4-fc4d-5fefcab06e34"
   },
   "outputs": [],
   "source": [
    "class Dog:\n",
    "    a=\"this a variable\"\n",
    "    def alpha():\n",
    "        print(\"i am from functions this is varaible\")\n",
    "    "
   ]
  },
  {
   "cell_type": "code",
   "execution_count": 10,
   "metadata": {},
   "outputs": [
    {
     "name": "stdout",
     "output_type": "stream",
     "text": [
      "this a variable\n",
      "i am from functions this is varaible\n"
     ]
    }
   ],
   "source": [
    "var1=Dog\n",
    "print(var1.a)\n",
    "var1.alpha()"
   ]
  },
  {
   "cell_type": "code",
   "execution_count": null,
   "metadata": {},
   "outputs": [],
   "source": [
    "This is Variable1\n",
    "I'm from function This is Variable1"
   ]
  },
  {
   "cell_type": "markdown",
   "metadata": {
    "id": "Qrn6EsJ7putu"
   },
   "source": [
    "## 3. Create a class with one `static variable` and two `instace variables`"
   ]
  },
  {
   "cell_type": "code",
   "execution_count": 27,
   "metadata": {},
   "outputs": [],
   "source": [
    "class Demo:\n",
    "    alpha=\"I am Static variable\"\n",
    "    def __init__(self,instance_var1,instance_var2):\n",
    "        self.instance_var1=instance_var1\n",
    "        self.instance_var2=instance_var2\n",
    "    def run(self):\n",
    "        print(self.instance_var1)\n",
    "        "
   ]
  },
  {
   "cell_type": "code",
   "execution_count": 30,
   "metadata": {},
   "outputs": [
    {
     "name": "stdout",
     "output_type": "stream",
     "text": [
      "I am Static variable\n",
      "variable1\n",
      "varaible2\n"
     ]
    }
   ],
   "source": [
    "beta=Demo\n",
    "print(Demo.alpha)\n",
    "alpha=Demo(\"variable1\",\"varaible2\")\n",
    "print(alpha.instance_var1)\n",
    "print(alpha.instance_var2)\n",
    "\n",
    "\n"
   ]
  },
  {
   "cell_type": "code",
   "execution_count": 11,
   "metadata": {
    "colab": {
     "base_uri": "https://localhost:8080/"
    },
    "id": "D5z1cympyQwS",
    "outputId": "83f642f9-4867-498f-b8b7-6b39101339f7"
   },
   "outputs": [
    {
     "name": "stdout",
     "output_type": "stream",
     "text": [
      "I am Static variable\n",
      "instance_var1\n",
      "instance_var2\n"
     ]
    }
   ],
   "source": [
    "class Demo():\n",
    "#CODE HERE"
   ]
  },
  {
   "cell_type": "code",
   "execution_count": null,
   "metadata": {},
   "outputs": [],
   "source": []
  },
  {
   "cell_type": "markdown",
   "metadata": {
    "id": "m2__2x3B_gub"
   },
   "source": [
    "## 4. Create a `Vehicle` class with max_speed and mileage instance attributes"
   ]
  },
  {
   "cell_type": "code",
   "execution_count": 32,
   "metadata": {
    "id": "4M2ggFoC_hqV"
   },
   "outputs": [],
   "source": [
    "class Vehile:\n",
    "    def __init__(self,max_speed,mileage):\n",
    "        self.max=max_speed\n",
    "        self.mil=mileage"
   ]
  },
  {
   "cell_type": "code",
   "execution_count": 36,
   "metadata": {},
   "outputs": [
    {
     "name": "stdout",
     "output_type": "stream",
     "text": [
      "240 18\n"
     ]
    }
   ],
   "source": [
    "moto=Vehile(240,18)\n",
    "print(moto.max,moto.mil)"
   ]
  },
  {
   "cell_type": "code",
   "execution_count": null,
   "metadata": {
    "colab": {
     "base_uri": "https://localhost:8080/"
    },
    "id": "uTyOnoPN_qVJ",
    "outputId": "e4ed0414-9da1-4196-a802-41b39f455a3f"
   },
   "outputs": [
    {
     "name": "stdout",
     "output_type": "stream",
     "text": [
      "240 18\n"
     ]
    }
   ],
   "source": [
    "class Vehicle:\n",
    "    #CODE HERE"
   ]
  },
  {
   "cell_type": "code",
   "execution_count": null,
   "metadata": {
    "id": "_Pq79YB0_rF2"
   },
   "outputs": [],
   "source": []
  },
  {
   "cell_type": "markdown",
   "metadata": {
    "id": "dGGYG_Sm1N4y"
   },
   "source": [
    "## 5. Create a simple class `Person` with constructer and one argument `name`"
   ]
  },
  {
   "cell_type": "code",
   "execution_count": 39,
   "metadata": {
    "id": "zkAdBgQP1bNW"
   },
   "outputs": [],
   "source": [
    "class Person:\n",
    "    def __init__(self,name):\n",
    "        self.name=name\n",
    "    def say_hi(self):\n",
    "        return \"Hello, my name is {}\".format(self.name)"
   ]
  },
  {
   "cell_type": "code",
   "execution_count": 40,
   "metadata": {},
   "outputs": [
    {
     "data": {
      "text/plain": [
       "'Hello, my name is Ram'"
      ]
     },
     "execution_count": 40,
     "metadata": {},
     "output_type": "execute_result"
    }
   ],
   "source": [
    "p=Person(\"Ram\")\n",
    "p.say_hi()"
   ]
  },
  {
   "cell_type": "code",
   "execution_count": null,
   "metadata": {
    "colab": {
     "base_uri": "https://localhost:8080/"
    },
    "id": "i5vQQoIu0X_f",
    "outputId": "2b8f7cd2-cb9d-43f2-afdf-8f20411ef6cc"
   },
   "outputs": [
    {
     "name": "stdout",
     "output_type": "stream",
     "text": [
      "Hello, my name is Ram\n"
     ]
    }
   ],
   "source": [
    "# A Sample class with init method\n",
    "class Person:\n",
    "   \n",
    "    #CODE HERE\n",
    "   \n",
    "p = Person('Ram')\n",
    "p.say_hi()"
   ]
  },
  {
   "cell_type": "code",
   "execution_count": null,
   "metadata": {
    "id": "JgeHHyrp2h1u"
   },
   "outputs": [],
   "source": []
  },
  {
   "cell_type": "markdown",
   "metadata": {
    "id": "T9AQ6X3i2k6l"
   },
   "source": [
    "## 6. Create a class for `Students` information like `name, rollno, marks` and `school name` with static variable.\n",
    "- create a function for displaying student information\n",
    "- create one more function for getting students marks and percentage "
   ]
  },
  {
   "cell_type": "code",
   "execution_count": null,
   "metadata": {
    "colab": {
     "base_uri": "https://localhost:8080/"
    },
    "id": "cX4Z5_nx2h-O",
    "outputId": "5e032c7a-407b-455b-aef3-84b673a017ae"
   },
   "outputs": [
    {
     "name": "stdout",
     "output_type": "stream",
     "text": [
      "Name: abc, RollNo: 1, Marks: 399, College: DIT\n",
      "Dictionary :  {'name': 'abc', 'rno': 1, 'marks': 399}\n",
      "percentahe of 399 out of 500 is :  79.80000000000001\n"
     ]
    }
   ],
   "source": [
    "class Student:\n",
    "    # CODE HERE"
   ]
  },
  {
   "cell_type": "code",
   "execution_count": 40,
   "metadata": {},
   "outputs": [],
   "source": [
    "class Student:\n",
    "    def __init__(self,name,roll_no,marks,college):\n",
    "        self.name=name\n",
    "        self.roll_no=roll_no\n",
    "        self.marks=marks\n",
    "        self.college=college\n",
    "    def dict(self):\n",
    "        dict={\"name\":self.name,\"roll_no\":self.roll_no,\"marks\":self.marks,\"college\":self.college}\n",
    "        return dict\n",
    "    def percent(self):\n",
    "        print(\"percentage of\",self.marks,\"out of 500 {}\".format((self.marks/500)*100))\n",
    "    "
   ]
  },
  {
   "cell_type": "code",
   "execution_count": 48,
   "metadata": {},
   "outputs": [
    {
     "name": "stdout",
     "output_type": "stream",
     "text": [
      "salvapathi 16R81A0113 399 sscet\n",
      "{'name': 'salvapathi', 'roll_no': '16R81A0113', 'marks': 399, 'college': 'sscet'}\n",
      "percentage of 399 out of 500 79.80000000000001\n"
     ]
    }
   ],
   "source": [
    "bio=Student(\"salvapathi\",\"16R81A0113\",399,\"sscet\")\n",
    "print(bio.name,bio.roll_no,bio.marks,bio.college)\n",
    "print(bio.dict())\n",
    "bio.percent()\n",
    "\n",
    "\n"
   ]
  },
  {
   "cell_type": "markdown",
   "metadata": {
    "id": "x-zGvkOi_9PD"
   },
   "source": [
    "## 7. Create a child class `Bus` that will inherit all of the variables and methods of the `Vehicle` class"
   ]
  },
  {
   "cell_type": "code",
   "execution_count": 61,
   "metadata": {
    "id": "5IppTc73__tp"
   },
   "outputs": [],
   "source": [
    "class Vehicle:\n",
    "    def __init__(self,vehicle_name,speed,milage):\n",
    "        self.vehicle_name=vehicle_name\n",
    "        self.speed=speed\n",
    "        self.milage=milage\n",
    "        \n",
    "class Bus(Vehicle):\n",
    "    def car(self):\n",
    "        print(\"Vehicle Name {} speed {} mileage {}\".format(self.vehicle_name,self.speed,self.milage))\n",
    "    \n",
    "    "
   ]
  },
  {
   "cell_type": "code",
   "execution_count": 65,
   "metadata": {},
   "outputs": [
    {
     "name": "stdout",
     "output_type": "stream",
     "text": [
      "Vehicle Name school_bus speed 45 mileage 180\n"
     ]
    }
   ],
   "source": [
    "data=Bus(\"school_bus\",45,180)\n",
    "data.car()\n",
    "#print(data.vehicle_name,data.speed,data.mileage)"
   ]
  },
  {
   "cell_type": "code",
   "execution_count": null,
   "metadata": {
    "colab": {
     "base_uri": "https://localhost:8080/"
    },
    "id": "Qf4ZRcg8ADOq",
    "outputId": "36f05d4e-d177-4b0a-f60d-85df44b22756"
   },
   "outputs": [
    {
     "name": "stdout",
     "output_type": "stream",
     "text": [
      "Vehicle Name: School Bus Speed: 180 Mileage: 12\n"
     ]
    }
   ],
   "source": [
    "class Vehicle:\n",
    "\n",
    "    #CODE "
   ]
  },
  {
   "cell_type": "markdown",
   "metadata": {
    "id": "Cex1VHlicvR0"
   },
   "source": [
    "## 8. Create a class `Employee` with two arguments `name and salary`\n",
    "- create a function which displays the employee information\n",
    "- Print total number of employees "
   ]
  },
  {
   "cell_type": "code",
   "execution_count": 11,
   "metadata": {
    "colab": {
     "base_uri": "https://localhost:8080/"
    },
    "id": "BcTNOVUiAIn7",
    "outputId": "eada07d0-cb16-4b0c-bdca-a1b360ad24b7"
   },
   "outputs": [],
   "source": [
    "class Employee:\n",
    "    employee_number=0\n",
    "    def __init__(self,name,salary):\n",
    "       \n",
    "        self.name=name\n",
    "        self.salary=salary\n",
    "        Employee.employee_number+=1\n",
    "    def fun(self):\n",
    "        print(\"name : {},salary : {} \".format(self.name,self.salary))\n",
    "        \n",
    "        \n",
    "   \n"
   ]
  },
  {
   "cell_type": "code",
   "execution_count": 12,
   "metadata": {},
   "outputs": [
    {
     "name": "stdout",
     "output_type": "stream",
     "text": [
      "name : rahul,salary : 3200 \n",
      "name : arjun reddy,salary : 65000 \n",
      "total employee 2\n"
     ]
    }
   ],
   "source": [
    "w=Employee(\"rahul\",3200)\n",
    "w.fun()\n",
    "p=Employee(\"arjun reddy\",65000)\n",
    "p.fun()\n",
    "print(\"total employee\",Employee.employee_number)\n"
   ]
  },
  {
   "cell_type": "code",
   "execution_count": null,
   "metadata": {},
   "outputs": [],
   "source": []
  },
  {
   "cell_type": "markdown",
   "metadata": {
    "id": "BmFF6kFScPGl"
   },
   "source": [
    "Name :  Zara , Salary:  2000\n",
    "Name :  Manni , Salary:  5000\n",
    "Total Employee 2"
   ]
  },
  {
   "cell_type": "code",
   "execution_count": null,
   "metadata": {},
   "outputs": [],
   "source": []
  }
 ],
 "metadata": {
  "colab": {
   "collapsed_sections": [],
   "name": "Class_Object_Asignment.ipynb",
   "provenance": []
  },
  "kernelspec": {
   "display_name": "Python 3 (ipykernel)",
   "language": "python",
   "name": "python3"
  },
  "language_info": {
   "codemirror_mode": {
    "name": "ipython",
    "version": 3
   },
   "file_extension": ".py",
   "mimetype": "text/x-python",
   "name": "python",
   "nbconvert_exporter": "python",
   "pygments_lexer": "ipython3",
   "version": "3.9.13"
  }
 },
 "nbformat": 4,
 "nbformat_minor": 1
}
